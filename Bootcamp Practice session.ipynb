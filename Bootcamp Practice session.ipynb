{
 "cells": [
  {
   "cell_type": "code",
   "execution_count": 7,
   "id": "5bff413f",
   "metadata": {},
   "outputs": [
    {
     "name": "stdout",
     "output_type": "stream",
     "text": [
      "[[1, 2, 3], [4, 5, 6], [7, 8, 9]]\n"
     ]
    }
   ],
   "source": [
    "arr =[[1,2,3],\n",
    "      [4,5,6],\n",
    "      [7,8,9]]\n",
    "\n",
    "print(arr)"
   ]
  },
  {
   "cell_type": "code",
   "execution_count": 11,
   "id": "3ee880d9",
   "metadata": {},
   "outputs": [
    {
     "name": "stdout",
     "output_type": "stream",
     "text": [
      "INDIA\n",
      "<class 'str'>\n",
      "2604255619568\n"
     ]
    }
   ],
   "source": [
    "a='INDIA'\n",
    "print(a)\n",
    "print(type(a))\n",
    "print(id(a))\n"
   ]
  },
  {
   "cell_type": "code",
   "execution_count": 17,
   "id": "9e33913f",
   "metadata": {},
   "outputs": [
    {
     "name": "stdout",
     "output_type": "stream",
     "text": [
      "aidnI ot emocleW ...llA olleH\n"
     ]
    }
   ],
   "source": [
    "S2=\"Hello All... Welcome to India\"\n",
    "\n",
    "print(S2[::-1])"
   ]
  },
  {
   "cell_type": "code",
   "execution_count": 32,
   "id": "a55b7a7b",
   "metadata": {},
   "outputs": [
    {
     "data": {
      "text/plain": [
       "[2, 4]"
      ]
     },
     "execution_count": 32,
     "metadata": {},
     "output_type": "execute_result"
    }
   ],
   "source": [
    "def calculate():\n",
    "    l1=[1,2,3,4,5]\n",
    "    nn=[i for i in l1 if i%2==0]\n",
    "    return nn\n",
    "\n",
    "calculate()\n",
    "    "
   ]
  },
  {
   "cell_type": "code",
   "execution_count": 33,
   "id": "7bc1eb30",
   "metadata": {},
   "outputs": [
    {
     "data": {
      "text/plain": [
       "[2, 4]"
      ]
     },
     "execution_count": 33,
     "metadata": {},
     "output_type": "execute_result"
    }
   ],
   "source": [
    "calculate()\n"
   ]
  },
  {
   "cell_type": "code",
   "execution_count": 40,
   "id": "77bfd734",
   "metadata": {},
   "outputs": [
    {
     "name": "stdout",
     "output_type": "stream",
     "text": [
      "Enter the marks : 80\n",
      "First\n"
     ]
    }
   ],
   "source": [
    "marks = int(input(\"Enter the marks : \"))\n",
    " \n",
    "output = (\"First\" if marks >= 80 else \"Second\" if marks >= 70 else \"Third\" if marks >= 60 else \"Just pass\" if marks >= 50 else \"Fail\"  )\n",
    "\n",
    "print(output)"
   ]
  }
 ],
 "metadata": {
  "kernelspec": {
   "display_name": "Python 3",
   "language": "python",
   "name": "python3"
  },
  "language_info": {
   "codemirror_mode": {
    "name": "ipython",
    "version": 3
   },
   "file_extension": ".py",
   "mimetype": "text/x-python",
   "name": "python",
   "nbconvert_exporter": "python",
   "pygments_lexer": "ipython3",
   "version": "3.8.8"
  }
 },
 "nbformat": 4,
 "nbformat_minor": 5
}
